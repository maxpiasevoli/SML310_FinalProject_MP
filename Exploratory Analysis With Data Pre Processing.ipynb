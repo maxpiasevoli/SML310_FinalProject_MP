{
 "cells": [
  {
   "cell_type": "code",
   "execution_count": 1,
   "metadata": {},
   "outputs": [],
   "source": [
    "import pandas as pd\n",
    "import numpy as np\n",
    "import seaborn as sns\n",
    "import os\n",
    "from matplotlib import pyplot as plt"
   ]
  },
  {
   "cell_type": "markdown",
   "metadata": {},
   "source": [
    "# Behavioral Learning Experiment"
   ]
  },
  {
   "cell_type": "code",
   "execution_count": 2,
   "metadata": {},
   "outputs": [],
   "source": [
    "dog_data = np.loadtxt('./behavioral.csv', delimiter=',', skiprows=2)"
   ]
  },
  {
   "cell_type": "code",
   "execution_count": 3,
   "metadata": {},
   "outputs": [],
   "source": [
    "# number of dogs shocked in each trial\n",
    "num_shocked_per_trial = sum(dog_data)\n",
    "trials = list(range(1,26))\n",
    "dogs_pd = pd.DataFrame(list(zip(trials, num_shocked_per_trial)), columns=['Trial', 'Number of Dogs Shocked'])"
   ]
  },
  {
   "cell_type": "code",
   "execution_count": 4,
   "metadata": {},
   "outputs": [
    {
     "data": {
      "text/plain": [
       "Text(0.5,1,'Number of Dogs Shocked vs Trial')"
      ]
     },
     "execution_count": 4,
     "metadata": {},
     "output_type": "execute_result"
    },
    {
     "data": {
      "image/png": "[encoded data removed]",
      "text/plain": [
       "<Figure size 432x288 with 1 Axes>"
      ]
     },
     "metadata": {},
     "output_type": "display_data"
    }
   ],
   "source": [
    "sns.set(style=\"darkgrid\")\n",
    "ax = sns.barplot(x=\"Trial\", y=\"Number of Dogs Shocked\", data=dogs_pd, color='blue')\n",
    "ax.set_title('Number of Dogs Shocked vs Trial')"
   ]
  },
  {
   "cell_type": "code",
   "execution_count": 5,
   "metadata": {},
   "outputs": [
    {
     "name": "stdout",
     "output_type": "stream",
     "text": [
      "mean:  4.5\n",
      "std:  2.247220505424423\n"
     ]
    }
   ],
   "source": [
    "# average number of trials needed before dog avoids for first time\n",
    "num_shocked_until_avoid = np.argmin(dog_data, axis=1)\n",
    "num_shocked_mean = np.mean(num_shocked_until_avoid)\n",
    "num_shocked_std = np.std(num_shocked_until_avoid)\n",
    "print('mean: ', num_shocked_mean)\n",
    "print('std: ', num_shocked_std)"
   ]
  },
  {
   "cell_type": "markdown",
   "metadata": {},
   "source": [
    "# Stop and Frisk"
   ]
  },
  {
   "cell_type": "code",
   "execution_count": 36,
   "metadata": {},
   "outputs": [
    {
     "name": "stderr",
     "output_type": "stream",
     "text": [
      "C:\\Users\\maxpi\\Anaconda3\\lib\\site-packages\\IPython\\core\\interactiveshell.py:2698: DtypeWarning: Columns (10,83) have mixed types. Specify dtype option on import or set low_memory=False.\n",
      "  interactivity=interactivity, compiler=compiler, result=result)\n",
      "C:\\Users\\maxpi\\Anaconda3\\lib\\site-packages\\IPython\\core\\interactiveshell.py:2698: DtypeWarning: Columns (0,1,2,3,4,8,18,19,73,74,84,85,86,103,110,111) have mixed types. Specify dtype option on import or set low_memory=False.\n",
      "  interactivity=interactivity, compiler=compiler, result=result)\n"
     ]
    }
   ],
   "source": [
    "nypd_pd_2014 = pd.read_csv('./sqf-2014.csv',  \n",
    "                 dtype={'year': int, 'pct':int, 'datestop':int, \n",
    "                        'crimsusp':str, 'arstmade':str, 'race':str})[['year', 'pct', 'datestop', 'crimsusp', 'arstmade', 'race']]\n",
    "nypd_pd_2015 = pd.read_csv('./sqf-2015.csv',  \n",
    "                 dtype={'year': int, 'pct':int, 'datestop':int, \n",
    "                        'crimsusp':str, 'arstmade':str, 'race':str})[['year', 'pct', 'datestop', 'crimsusp', 'arstmade', 'race']]\n",
    "nypd_pd_2016 = pd.read_csv('./sqf-2016.csv',  \n",
    "                 dtype={\n",
    "                        'crimsusp':str, 'arstmade':str, 'race':str})[['year', 'pct', 'datestop', 'crimsusp', 'arstmade', 'race']]\n",
    "nypd_pd_2016 = nypd_pd_2016.drop(12404)\n",
    "nypd_pd_2016.year = nypd_pd_2016.year.astype(int)\n",
    "nypd_pd_2016.pct = nypd_pd_2016.pct.astype(int)\n",
    "nypd_pd_2016.datestop = nypd_pd_2016.datestop.astype(int)\n"
   ]
  },
  {
   "cell_type": "code",
   "execution_count": 37,
   "metadata": {},
   "outputs": [],
   "source": [
    "nypd_pd_2016 = nypd_pd_2016[nypd_pd_2016['datestop'] < 4000000] # only consider stops up to march\n",
    "nypd_pd = pd.concat((nypd_pd_2015, nypd_pd_2016))"
   ]
  },
  {
   "cell_type": "code",
   "execution_count": 38,
   "metadata": {},
   "outputs": [],
   "source": [
    "# restrict to weapons related crimes\n",
    "# unsure of whether to include following line for 2014; is the number of arrests in the previous year categorized by crime type?\n",
    "nypd_pd_2014 = nypd_pd_2014[nypd_pd_2014['crimsusp'].str.contains('CPW|DWEAPON|WEAP|FIREARM|KNIFE|GUN', regex=True)]\n",
    "nypd_pd = nypd_pd[nypd_pd['crimsusp'].str.contains('CPW|DWEAPON|WEAP|FIREARM|KNIFE|GUN', regex=True)]"
   ]
  },
  {
   "cell_type": "code",
   "execution_count": 39,
   "metadata": {},
   "outputs": [],
   "source": [
    "from collections import defaultdict"
   ]
  },
  {
   "cell_type": "code",
   "execution_count": 40,
   "metadata": {},
   "outputs": [],
   "source": [
    "races = set(['W', 'B', 'Q']) # white, black, hispanic (Q)\n",
    "# count n_ep \n",
    "n_ep = {} # ethnicity -> {precinct : int}\n",
    "n_ep['W'] = defaultdict(int)\n",
    "n_ep['B'] = defaultdict(int)\n",
    "n_ep['Q'] = defaultdict(int)\n",
    "\n",
    "for race, pct, arstmade in zip(nypd_pd_2014['race'], nypd_pd_2014['pct'], nypd_pd_2014['arstmade']):\n",
    "    if race in races and arstmade == 'Y':\n",
    "        n_ep[race][pct] += 1"
   ]
  },
  {
   "cell_type": "code",
   "execution_count": 41,
   "metadata": {},
   "outputs": [],
   "source": [
    "# count y_ep \n",
    "y_ep = {} # ethnicity -> precinct : int\n",
    "y_ep['W'] = defaultdict(int)\n",
    "y_ep['B'] = defaultdict(int)\n",
    "y_ep['Q'] = defaultdict(int)\n",
    "for race, pct in zip(nypd_pd['race'], nypd_pd['pct']):\n",
    "    if race in races:\n",
    "        y_ep[race][pct] += 1"
   ]
  },
  {
   "cell_type": "code",
   "execution_count": 42,
   "metadata": {},
   "outputs": [
    {
     "name": "stdout",
     "output_type": "stream",
     "text": [
      "27\n",
      "50\n",
      "37\n"
     ]
    }
   ],
   "source": [
    "print(len(list(n_ep['W'].keys())))\n",
    "print(len(list(n_ep['B'].keys())))\n",
    "print(len(list(n_ep['Q'].keys())))"
   ]
  },
  {
   "cell_type": "code",
   "execution_count": 43,
   "metadata": {},
   "outputs": [
    {
     "name": "stdout",
     "output_type": "stream",
     "text": [
      "44\n",
      "63\n",
      "50\n"
     ]
    }
   ],
   "source": [
    "print(len(list(y_ep['W'].keys())))\n",
    "print(len(list(y_ep['B'].keys())))\n",
    "print(len(list(y_ep['Q'].keys())))"
   ]
  },
  {
   "cell_type": "markdown",
   "metadata": {},
   "source": [
    "# Pre-Processing"
   ]
  },
  {
   "cell_type": "code",
   "execution_count": 44,
   "metadata": {},
   "outputs": [],
   "source": [
    "import copy"
   ]
  },
  {
   "cell_type": "code",
   "execution_count": 45,
   "metadata": {},
   "outputs": [],
   "source": [
    "# make sure that all sets have all precincts; if a precinct does not occur in n_ep, set it equal to 1e-6. Set it to 0 in y_ep \n",
    "\n",
    "n_ep_z = copy.deepcopy(n_ep)\n",
    "\n",
    "# list of all precincts\n",
    "all_dicts = list(n_ep.values()) + list(y_ep.values())\n",
    "all_precincts = set()\n",
    "for current_dict in all_dicts:\n",
    "    for precinct in current_dict.keys():\n",
    "        all_precincts.add(precinct)\n",
    "all_precincts = list(all_precincts)\n",
    "\n",
    "# handle missing precincts in n_ep_z\n",
    "# this dictionary is used for models that directly \n",
    "# take the log of this value\n",
    "for n_dict in n_ep.values():\n",
    "    for precinct in all_precincts:\n",
    "        if precinct not in n_dict:\n",
    "            #n_dict[precinct] = 1e-6\n",
    "            n_dict[precinct] = 1\n",
    "\n",
    "# handle missing precincts in n_ep\n",
    "for n_dict in n_ep_z.values():\n",
    "    for precinct in all_precincts:\n",
    "        if precinct not in n_dict:\n",
    "            n_dict[precinct] = 0\n",
    "            \n",
    "# handle missing precincts in y_ep\n",
    "for y_dict in y_ep.values():\n",
    "    for precinct in all_precincts:\n",
    "        if precinct not in y_dict:\n",
    "            y_dict[precinct] = 0"
   ]
  },
  {
   "cell_type": "code",
   "execution_count": 46,
   "metadata": {},
   "outputs": [],
   "source": [
    "# read-in precinct census data\n",
    "eth_census = pd.read_csv('./NYC_precinct_census_2017.csv', delimiter=',')\n",
    "\n",
    "# split precincts into each category \n",
    "# 0 = less than 10% black\n",
    "# 1 = 10-40% black\n",
    "# 2 = > 40% black\n",
    "precinct_to_category = {}\n",
    "for index, row in eth_census.iterrows():\n",
    "    percent_black = row['Sum_Black']/row['Sum_Total_']\n",
    "    current_precinct = row['Precinct']\n",
    "    if percent_black < 0.1:\n",
    "        precinct_to_category[current_precinct] = 0\n",
    "    elif percent_black <= 0.4:\n",
    "        precinct_to_category[current_precinct] = 1\n",
    "    else:\n",
    "        precinct_to_category[current_precinct] = 2"
   ]
  },
  {
   "cell_type": "code",
   "execution_count": 47,
   "metadata": {},
   "outputs": [
    {
     "data": {
      "text/html": [
       "<div>\n",
       "<style scoped>\n",
       "    .dataframe tbody tr th:only-of-type {\n",
       "        vertical-align: middle;\n",
       "    }\n",
       "\n",
       "    .dataframe tbody tr th {\n",
       "        vertical-align: top;\n",
       "    }\n",
       "\n",
       "    .dataframe thead th {\n",
       "        text-align: right;\n",
       "    }\n",
       "</style>\n",
       "<table border=\"1\" class=\"dataframe\">\n",
       "  <thead>\n",
       "    <tr style=\"text-align: right;\">\n",
       "      <th></th>\n",
       "      <th>Precinct</th>\n",
       "      <th>Cnt_Precin</th>\n",
       "      <th>Sum_Total_</th>\n",
       "      <th>Sum_White</th>\n",
       "      <th>Sum_Black</th>\n",
       "      <th>Sum_Hispan</th>\n",
       "    </tr>\n",
       "  </thead>\n",
       "  <tbody>\n",
       "    <tr>\n",
       "      <th>0</th>\n",
       "      <td>0</td>\n",
       "      <td>9107</td>\n",
       "      <td>11241470</td>\n",
       "      <td>8326912</td>\n",
       "      <td>957142</td>\n",
       "      <td>1235229</td>\n",
       "    </tr>\n",
       "    <tr>\n",
       "      <th>1</th>\n",
       "      <td>1</td>\n",
       "      <td>34</td>\n",
       "      <td>73428</td>\n",
       "      <td>51658</td>\n",
       "      <td>1802</td>\n",
       "      <td>4956</td>\n",
       "    </tr>\n",
       "    <tr>\n",
       "      <th>2</th>\n",
       "      <td>5</td>\n",
       "      <td>35</td>\n",
       "      <td>52118</td>\n",
       "      <td>11221</td>\n",
       "      <td>2682</td>\n",
       "      <td>5898</td>\n",
       "    </tr>\n",
       "    <tr>\n",
       "      <th>3</th>\n",
       "      <td>6</td>\n",
       "      <td>48</td>\n",
       "      <td>61397</td>\n",
       "      <td>49538</td>\n",
       "      <td>1302</td>\n",
       "      <td>3524</td>\n",
       "    </tr>\n",
       "    <tr>\n",
       "      <th>4</th>\n",
       "      <td>7</td>\n",
       "      <td>37</td>\n",
       "      <td>54851</td>\n",
       "      <td>13334</td>\n",
       "      <td>3960</td>\n",
       "      <td>18327</td>\n",
       "    </tr>\n",
       "    <tr>\n",
       "      <th>...</th>\n",
       "      <td>...</td>\n",
       "      <td>...</td>\n",
       "      <td>...</td>\n",
       "      <td>...</td>\n",
       "      <td>...</td>\n",
       "      <td>...</td>\n",
       "    </tr>\n",
       "    <tr>\n",
       "      <th>73</th>\n",
       "      <td>115</td>\n",
       "      <td>104</td>\n",
       "      <td>165906</td>\n",
       "      <td>17738</td>\n",
       "      <td>8688</td>\n",
       "      <td>107392</td>\n",
       "    </tr>\n",
       "    <tr>\n",
       "      <th>74</th>\n",
       "      <td>120</td>\n",
       "      <td>86</td>\n",
       "      <td>111562</td>\n",
       "      <td>43985</td>\n",
       "      <td>24541</td>\n",
       "      <td>31045</td>\n",
       "    </tr>\n",
       "    <tr>\n",
       "      <th>75</th>\n",
       "      <td>121</td>\n",
       "      <td>76</td>\n",
       "      <td>123096</td>\n",
       "      <td>61488</td>\n",
       "      <td>14774</td>\n",
       "      <td>28120</td>\n",
       "    </tr>\n",
       "    <tr>\n",
       "      <th>76</th>\n",
       "      <td>122</td>\n",
       "      <td>93</td>\n",
       "      <td>137849</td>\n",
       "      <td>102714</td>\n",
       "      <td>4439</td>\n",
       "      <td>17651</td>\n",
       "    </tr>\n",
       "    <tr>\n",
       "      <th>77</th>\n",
       "      <td>123</td>\n",
       "      <td>54</td>\n",
       "      <td>103441</td>\n",
       "      <td>87329</td>\n",
       "      <td>846</td>\n",
       "      <td>9724</td>\n",
       "    </tr>\n",
       "  </tbody>\n",
       "</table>\n",
       "<p>78 rows × 6 columns</p>\n",
       "</div>"
      ],
      "text/plain": [
       "    Precinct  Cnt_Precin  Sum_Total_  Sum_White  Sum_Black  Sum_Hispan\n",
       "0          0        9107    11241470    8326912     957142     1235229\n",
       "1          1          34       73428      51658       1802        4956\n",
       "2          5          35       52118      11221       2682        5898\n",
       "3          6          48       61397      49538       1302        3524\n",
       "4          7          37       54851      13334       3960       18327\n",
       "..       ...         ...         ...        ...        ...         ...\n",
       "73       115         104      165906      17738       8688      107392\n",
       "74       120          86      111562      43985      24541       31045\n",
       "75       121          76      123096      61488      14774       28120\n",
       "76       122          93      137849     102714       4439       17651\n",
       "77       123          54      103441      87329        846        9724\n",
       "\n",
       "[78 rows x 6 columns]"
      ]
     },
     "execution_count": 47,
     "metadata": {},
     "output_type": "execute_result"
    }
   ],
   "source": [
    "eth_census"
   ]
  },
  {
   "cell_type": "code",
   "execution_count": 48,
   "metadata": {},
   "outputs": [],
   "source": [
    "# export each e set for each category\n",
    "\n",
    "# in the case of y_ep, occurrences is the number of stops \n",
    "# in the case of n_ep, occurrences is the number of arrests\n",
    "def precinct_dataframe(list_data):\n",
    "    return pd.DataFrame(list_data, columns = ['Precinct', 'Ethnic_Comp_Cat', 'Race', 'Race_Int', 'Eth_Pop_In_Precinct', 'Occurrences']) \n",
    "\n",
    "def get_eth_pop(precinct, race):\n",
    "    race_col = ''\n",
    "    if race == 'W':\n",
    "        race_col = 'Sum_White'\n",
    "    elif race == 'B':\n",
    "        race_col = 'Sum_Black'\n",
    "    else:\n",
    "        race_col = 'Sum_Hispan'\n",
    "        \n",
    "    return int(eth_census[eth_census['Precinct']==precinct][race_col])\n",
    "    \n",
    "def extract_3_cats(ep):\n",
    "    list_data = []\n",
    "    races = ['W', 'B', 'Q']\n",
    "    race_int = {'W':1, 'B':2, 'Q':3}\n",
    "    \n",
    "    for precinct in all_precincts:\n",
    "        next_added = [[precinct, precinct_to_category[precinct], race, race_int[race], get_eth_pop(precinct, race), ep[race][precinct]] for race in races]\n",
    "        list_data.extend(next_added)\n",
    "    \n",
    "    return precinct_dataframe(list_data)\n",
    "    \n",
    "n_ep_df = extract_3_cats(n_ep)\n",
    "n_ep_z_df = extract_3_cats(n_ep_z)\n",
    "y_ep_df = extract_3_cats(y_ep)"
   ]
  },
  {
   "cell_type": "code",
   "execution_count": 49,
   "metadata": {},
   "outputs": [],
   "source": [
    "y_ep_df.to_csv('./20152016_stops.csv', index=False)\n",
    "n_ep_df.to_csv('./2014_arrests_ones.csv', index=False)\n",
    "n_ep_z_df.to_csv('./2014_arrests_zeros.csv', index=False)"
   ]
  },
  {
   "cell_type": "code",
   "execution_count": 34,
   "metadata": {},
   "outputs": [],
   "source": [
    "y_ep_df.to_csv('./20152016_stops_all_crimes.csv', index=False)\n",
    "n_ep_df.to_csv('./2014_arrests_ones_all_crimes.csv', index=False)\n",
    "n_ep_z_df.to_csv('./2014_arrests_zeros_all_crimes.csv', index=False)"
   ]
  },
  {
   "cell_type": "code",
   "execution_count": 17,
   "metadata": {},
   "outputs": [
    {
     "data": {
      "text/html": [
       "<div>\n",
       "<style scoped>\n",
       "    .dataframe tbody tr th:only-of-type {\n",
       "        vertical-align: middle;\n",
       "    }\n",
       "\n",
       "    .dataframe tbody tr th {\n",
       "        vertical-align: top;\n",
       "    }\n",
       "\n",
       "    .dataframe thead th {\n",
       "        text-align: right;\n",
       "    }\n",
       "</style>\n",
       "<table border=\"1\" class=\"dataframe\">\n",
       "  <thead>\n",
       "    <tr style=\"text-align: right;\">\n",
       "      <th></th>\n",
       "      <th>Precinct</th>\n",
       "      <th>Ethnic_Comp_Cat</th>\n",
       "      <th>Race</th>\n",
       "      <th>Race_Int</th>\n",
       "      <th>Eth_Pop_In_Precinct</th>\n",
       "      <th>Occurrences</th>\n",
       "    </tr>\n",
       "  </thead>\n",
       "  <tbody>\n",
       "    <tr>\n",
       "      <th>0</th>\n",
       "      <td>1</td>\n",
       "      <td>0</td>\n",
       "      <td>W</td>\n",
       "      <td>1</td>\n",
       "      <td>51658</td>\n",
       "      <td>1</td>\n",
       "    </tr>\n",
       "    <tr>\n",
       "      <th>1</th>\n",
       "      <td>1</td>\n",
       "      <td>0</td>\n",
       "      <td>B</td>\n",
       "      <td>2</td>\n",
       "      <td>1802</td>\n",
       "      <td>1</td>\n",
       "    </tr>\n",
       "    <tr>\n",
       "      <th>2</th>\n",
       "      <td>1</td>\n",
       "      <td>0</td>\n",
       "      <td>Q</td>\n",
       "      <td>3</td>\n",
       "      <td>4956</td>\n",
       "      <td>1</td>\n",
       "    </tr>\n",
       "    <tr>\n",
       "      <th>3</th>\n",
       "      <td>5</td>\n",
       "      <td>0</td>\n",
       "      <td>W</td>\n",
       "      <td>1</td>\n",
       "      <td>11221</td>\n",
       "      <td>1</td>\n",
       "    </tr>\n",
       "    <tr>\n",
       "      <th>4</th>\n",
       "      <td>5</td>\n",
       "      <td>0</td>\n",
       "      <td>B</td>\n",
       "      <td>2</td>\n",
       "      <td>2682</td>\n",
       "      <td>1</td>\n",
       "    </tr>\n",
       "    <tr>\n",
       "      <th>...</th>\n",
       "      <td>...</td>\n",
       "      <td>...</td>\n",
       "      <td>...</td>\n",
       "      <td>...</td>\n",
       "      <td>...</td>\n",
       "      <td>...</td>\n",
       "    </tr>\n",
       "    <tr>\n",
       "      <th>211</th>\n",
       "      <td>121</td>\n",
       "      <td>1</td>\n",
       "      <td>B</td>\n",
       "      <td>2</td>\n",
       "      <td>14774</td>\n",
       "      <td>4</td>\n",
       "    </tr>\n",
       "    <tr>\n",
       "      <th>212</th>\n",
       "      <td>121</td>\n",
       "      <td>1</td>\n",
       "      <td>Q</td>\n",
       "      <td>3</td>\n",
       "      <td>28120</td>\n",
       "      <td>1</td>\n",
       "    </tr>\n",
       "    <tr>\n",
       "      <th>213</th>\n",
       "      <td>122</td>\n",
       "      <td>0</td>\n",
       "      <td>W</td>\n",
       "      <td>1</td>\n",
       "      <td>102714</td>\n",
       "      <td>2</td>\n",
       "    </tr>\n",
       "    <tr>\n",
       "      <th>214</th>\n",
       "      <td>122</td>\n",
       "      <td>0</td>\n",
       "      <td>B</td>\n",
       "      <td>2</td>\n",
       "      <td>4439</td>\n",
       "      <td>1</td>\n",
       "    </tr>\n",
       "    <tr>\n",
       "      <th>215</th>\n",
       "      <td>122</td>\n",
       "      <td>0</td>\n",
       "      <td>Q</td>\n",
       "      <td>3</td>\n",
       "      <td>17651</td>\n",
       "      <td>1</td>\n",
       "    </tr>\n",
       "  </tbody>\n",
       "</table>\n",
       "<p>216 rows × 6 columns</p>\n",
       "</div>"
      ],
      "text/plain": [
       "     Precinct  Ethnic_Comp_Cat Race  Race_Int  Eth_Pop_In_Precinct  \\\n",
       "0           1                0    W         1                51658   \n",
       "1           1                0    B         2                 1802   \n",
       "2           1                0    Q         3                 4956   \n",
       "3           5                0    W         1                11221   \n",
       "4           5                0    B         2                 2682   \n",
       "..        ...              ...  ...       ...                  ...   \n",
       "211       121                1    B         2                14774   \n",
       "212       121                1    Q         3                28120   \n",
       "213       122                0    W         1               102714   \n",
       "214       122                0    B         2                 4439   \n",
       "215       122                0    Q         3                17651   \n",
       "\n",
       "     Occurrences  \n",
       "0              1  \n",
       "1              1  \n",
       "2              1  \n",
       "3              1  \n",
       "4              1  \n",
       "..           ...  \n",
       "211            4  \n",
       "212            1  \n",
       "213            2  \n",
       "214            1  \n",
       "215            1  \n",
       "\n",
       "[216 rows x 6 columns]"
      ]
     },
     "execution_count": 17,
     "metadata": {},
     "output_type": "execute_result"
    }
   ],
   "source": [
    "n_ep_df"
   ]
  },
  {
   "cell_type": "markdown",
   "metadata": {},
   "source": [
    "# Exploratory Analysis "
   ]
  },
  {
   "cell_type": "code",
   "execution_count": 37,
   "metadata": {},
   "outputs": [],
   "source": [
    "def valsList(a_dict):\n",
    "    return list(a_dict.values())"
   ]
  },
  {
   "cell_type": "code",
   "execution_count": 38,
   "metadata": {},
   "outputs": [],
   "source": [
    "def calcMeanStd(ep):\n",
    "    means = (np.mean(valsList(ep['W'])), np.mean(valsList(ep['B'])), np.mean(valsList(ep['Q'])))\n",
    "    stds = (np.std(valsList(ep['W'])), np.std(valsList(ep['B'])), np.std(valsList(ep['Q'])))\n",
    "    return means, stds"
   ]
  },
  {
   "cell_type": "code",
   "execution_count": 39,
   "metadata": {},
   "outputs": [],
   "source": [
    "n_ep_means, n_ep_stds = calcMeanStd(n_ep)\n",
    "y_ep_means, y_ep_stds = calcMeanStd(y_ep)"
   ]
  },
  {
   "cell_type": "code",
   "execution_count": 40,
   "metadata": {},
   "outputs": [
    {
     "name": "stdout",
     "output_type": "stream",
     "text": [
      "(9.207792376623376, 44.76623376623377, 22.831168883116888)\n",
      "(13.638503119521745, 49.459913219551986, 32.78279660743759)\n",
      "(1.844155844155844, 30.675324675324674, 9.454545454545455)\n",
      "(3.471834482951527, 52.42469963088097, 18.709359734542105)\n"
     ]
    }
   ],
   "source": [
    "print(n_ep_means)\n",
    "print(n_ep_stds)\n",
    "print(y_ep_means)\n",
    "print(y_ep_stds)"
   ]
  },
  {
   "cell_type": "code",
   "execution_count": 13,
   "metadata": {},
   "outputs": [
    {
     "name": "stdout",
     "output_type": "stream",
     "text": [
      "27\n",
      "50\n",
      "37\n"
     ]
    }
   ],
   "source": [
    "print(len(n_ep['W']))\n",
    "print(len(n_ep['B']))\n",
    "print(len(n_ep['Q']))"
   ]
  },
  {
   "cell_type": "code",
   "execution_count": 14,
   "metadata": {},
   "outputs": [
    {
     "name": "stdout",
     "output_type": "stream",
     "text": [
      "44\n",
      "63\n",
      "50\n"
     ]
    }
   ],
   "source": [
    "print(len(y_ep['W']))\n",
    "print(len(y_ep['B']))\n",
    "print(len(y_ep['Q']))"
   ]
  },
  {
   "cell_type": "code",
   "execution_count": 15,
   "metadata": {},
   "outputs": [],
   "source": [
    "y_w_vals = valsList(y_ep['W'])\n",
    "y_b_vals = valsList(y_ep['B'])\n",
    "y_q_vals = valsList(y_ep['Q'])\n",
    "vals = y_w_vals + y_b_vals + y_q_vals\n",
    "labels = ['White'] * len(y_w_vals) + ['Black'] * len(y_b_vals) + ['Hispanic'] * len(y_q_vals)"
   ]
  },
  {
   "cell_type": "code",
   "execution_count": 16,
   "metadata": {},
   "outputs": [],
   "source": [
    "general_stops_df = pd.DataFrame(list(zip(vals, labels)), columns=['Number of Stops', 'Ethnic Group'])"
   ]
  },
  {
   "cell_type": "code",
   "execution_count": 17,
   "metadata": {},
   "outputs": [
    {
     "data": {
      "text/plain": [
       "Text(0.5,1,'Number of Stops vs Ethnic Group')"
      ]
     },
     "execution_count": 17,
     "metadata": {},
     "output_type": "execute_result"
    },
    {
     "data": {
      "image/png": "[encoded data removed]",
      "text/plain": [
       "<Figure size 432x288 with 1 Axes>"
      ]
     },
     "metadata": {},
     "output_type": "display_data"
    }
   ],
   "source": [
    "ax = sns.boxplot(x=\"Ethnic Group\", y=\"Number of Stops\", data=general_stops_df)\n",
    "ax.set_ylim([0, 100]) \n",
    "ax.set_title('Number of Stops vs Ethnic Group')"
   ]
  },
  {
   "cell_type": "code",
   "execution_count": 18,
   "metadata": {},
   "outputs": [
    {
     "data": {
      "text/plain": [
       "{5,\n",
       " 9,\n",
       " 23,\n",
       " 24,\n",
       " 25,\n",
       " 30,\n",
       " 32,\n",
       " 40,\n",
       " 41,\n",
       " 44,\n",
       " 46,\n",
       " 47,\n",
       " 48,\n",
       " 49,\n",
       " 50,\n",
       " 60,\n",
       " 61,\n",
       " 63,\n",
       " 70,\n",
       " 75,\n",
       " 76,\n",
       " 79,\n",
       " 84,\n",
       " 88,\n",
       " 100,\n",
       " 102,\n",
       " 103,\n",
       " 104,\n",
       " 107,\n",
       " 109,\n",
       " 110,\n",
       " 115,\n",
       " 120,\n",
       " 122}"
      ]
     },
     "execution_count": 18,
     "metadata": {},
     "output_type": "execute_result"
    }
   ],
   "source": [
    "y_w_precincts = set(list(y_ep['W'].keys()))\n",
    "y_b_precincts = set(list(y_ep['B'].keys()))\n",
    "y_q_precincts = set(list(y_ep['Q'].keys()))\n",
    "y_q_precincts.intersection(y_w_precincts.intersection(y_b_precincts))"
   ]
  },
  {
   "cell_type": "code",
   "execution_count": 19,
   "metadata": {},
   "outputs": [
    {
     "name": "stdout",
     "output_type": "stream",
     "text": [
      "8\n",
      "13\n",
      "5\n"
     ]
    }
   ],
   "source": [
    "print(y_ep['W'][5])\n",
    "print(y_ep['B'][5])\n",
    "print(y_ep['Q'][5])"
   ]
  },
  {
   "cell_type": "code",
   "execution_count": 20,
   "metadata": {},
   "outputs": [],
   "source": [
    "def makePrecinctPlots(precincts, ep):\n",
    "    f, axes = plt.subplots(1, 3, sharex=True, sharey=True, figsize=(15,6))\n",
    "    \n",
    "    for i, precinct in enumerate(precincts):\n",
    "        w = ep['W'][precinct]\n",
    "        b = ep['B'][precinct]\n",
    "        q = ep['Q'][precinct]\n",
    "        total = sum([w,b,q])\n",
    "        props = [w/total, b/total, q/total]\n",
    "        labels = ['White', 'Black', 'Hispanic']\n",
    "        df = pd.DataFrame(list(zip(props, labels)), columns=['Proportion of Stops', 'Ethnic Group'])\n",
    "        \n",
    "        ax = sns.barplot(y=\"Proportion of Stops\", x= \"Ethnic Group\", data=df,  orient='v' , ax=axes[i])\n",
    "        ax.set(xlabel='', ylabel='')\n",
    "        ax.set_title('Precinct {0}'.format(precinct))\n",
    "        \n",
    "    f.text(0.5, 0.04, 'Ethnic Group', ha='center', va='center', fontsize=14)\n",
    "    f.text(0.08, 0.5, 'Fraction of Stops in Precinct', ha='center', va='center', rotation='vertical', fontsize=14)\n",
    "    f.text(0.5, 0.96, 'Fraction of Stops in Precinct vs Ethnic Group', ha='center', va='center', fontsize=14)\n",
    "    \n",
    "    return f, axes"
   ]
  },
  {
   "cell_type": "code",
   "execution_count": 21,
   "metadata": {},
   "outputs": [
    {
     "data": {
      "image/png": "[encoded data removed]",
      "text/plain": [
       "<Figure size 1080x432 with 3 Axes>"
      ]
     },
     "metadata": {},
     "output_type": "display_data"
    }
   ],
   "source": [
    "f, axes = makePrecinctPlots([5, 61, 114], y_ep)"
   ]
  },
  {
   "cell_type": "code",
   "execution_count": 22,
   "metadata": {},
   "outputs": [
    {
     "data": {
      "image/png": "[encoded data removed]",
      "text/plain": [
       "<Figure size 1080x432 with 3 Axes>"
      ]
     },
     "metadata": {},
     "output_type": "display_data"
    }
   ],
   "source": [
    "# <10, 10-40, >40\n",
    "f, axes = makePrecinctPlots([5, 70, 81], y_ep)"
   ]
  },
  {
   "cell_type": "code",
   "execution_count": 30,
   "metadata": {},
   "outputs": [
    {
     "data": {
      "text/plain": [
       "0"
      ]
     },
     "execution_count": 30,
     "metadata": {},
     "output_type": "execute_result"
    }
   ],
   "source": [
    "y_ep['W'][69]"
   ]
  },
  {
   "cell_type": "code",
   "execution_count": 26,
   "metadata": {},
   "outputs": [
    {
     "name": "stderr",
     "output_type": "stream",
     "text": [
      "C:\\Users\\maxpi\\Anaconda3\\lib\\site-packages\\scipy\\stats\\stats.py:1713: FutureWarning: Using a non-tuple sequence for multidimensional indexing is deprecated; use `arr[tuple(seq)]` instead of `arr[seq]`. In the future this will be interpreted as an array index, `arr[np.array(seq)]`, which will result either in an error or a different result.\n",
      "  return np.add.reduce(sorted[indexer] * weights, axis=axis) / sumval\n"
     ]
    },
    {
     "data": {
      "text/plain": [
       "<matplotlib.axes._subplots.AxesSubplot at 0x21f8f10b390>"
      ]
     },
     "execution_count": 26,
     "metadata": {},
     "output_type": "execute_result"
    },
    {
     "data": {
      "image/png": "[encoded data removed]",
      "text/plain": [
       "<Figure size 432x288 with 1 Axes>"
      ]
     },
     "metadata": {},
     "output_type": "display_data"
    }
   ],
   "source": [
    "sns.distplot(list(y_ep['W'].values()))"
   ]
  },
  {
   "cell_type": "code",
   "execution_count": 27,
   "metadata": {},
   "outputs": [
    {
     "name": "stderr",
     "output_type": "stream",
     "text": [
      "C:\\Users\\maxpi\\Anaconda3\\lib\\site-packages\\scipy\\stats\\stats.py:1713: FutureWarning: Using a non-tuple sequence for multidimensional indexing is deprecated; use `arr[tuple(seq)]` instead of `arr[seq]`. In the future this will be interpreted as an array index, `arr[np.array(seq)]`, which will result either in an error or a different result.\n",
      "  return np.add.reduce(sorted[indexer] * weights, axis=axis) / sumval\n"
     ]
    },
    {
     "data": {
      "text/plain": [
       "<matplotlib.axes._subplots.AxesSubplot at 0x21f8eac18d0>"
      ]
     },
     "execution_count": 27,
     "metadata": {},
     "output_type": "execute_result"
    },
    {
     "data": {
      "image/png": "[encoded data removed]",
      "text/plain": [
       "<Figure size 432x288 with 1 Axes>"
      ]
     },
     "metadata": {},
     "output_type": "display_data"
    }
   ],
   "source": [
    "sns.distplot(list(y_ep['B'].values()))"
   ]
  },
  {
   "cell_type": "code",
   "execution_count": 249,
   "metadata": {},
   "outputs": [
    {
     "name": "stderr",
     "output_type": "stream",
     "text": [
      "C:\\Users\\maxpi\\Anaconda3\\lib\\site-packages\\scipy\\stats\\stats.py:1713: FutureWarning: Using a non-tuple sequence for multidimensional indexing is deprecated; use `arr[tuple(seq)]` instead of `arr[seq]`. In the future this will be interpreted as an array index, `arr[np.array(seq)]`, which will result either in an error or a different result.\n",
      "  return np.add.reduce(sorted[indexer] * weights, axis=axis) / sumval\n"
     ]
    },
    {
     "data": {
      "text/plain": [
       "<matplotlib.axes._subplots.AxesSubplot at 0x287729abc88>"
      ]
     },
     "execution_count": 249,
     "metadata": {},
     "output_type": "execute_result"
    },
    {
     "data": {
      "image/png": "[encoded data removed]",
      "text/plain": [
       "<Figure size 432x288 with 1 Axes>"
      ]
     },
     "metadata": {},
     "output_type": "display_data"
    }
   ],
   "source": [
    "sns.distplot(list(y_ep['Q'].values()))"
   ]
  },
  {
   "cell_type": "code",
   "execution_count": 259,
   "metadata": {},
   "outputs": [],
   "source": [
    "def makeHists(ep):\n",
    "    f, axes = plt.subplots(3, 1, sharex=True, sharey=True, figsize=(6,15))\n",
    "    w_vals = []\n",
    "    b_vals = []\n",
    "    q_vals = []\n",
    "    \n",
    "    y_w_precincts = set(list(y_ep['W'].keys()))\n",
    "    y_b_precincts = set(list(y_ep['B'].keys()))\n",
    "    y_q_precincts = set(list(y_ep['Q'].keys()))\n",
    "    common = y_q_precincts.intersection(y_w_precincts.intersection(y_b_precincts))\n",
    "    \n",
    "    for precinct in common:\n",
    "        w = ep['W'][precinct]\n",
    "        b = ep['B'][precinct]\n",
    "        q = ep['Q'][precinct]\n",
    "        total = sum([w,b,q])\n",
    "        w_vals.append(w/total)\n",
    "        b_vals.append(b/total)\n",
    "        q_vals.append(q/total)\n",
    "    \n",
    "    ax = sns.distplot(w_vals, ax=axes[0], bins=5)\n",
    "    ax.set_xlim([0,1])\n",
    "    ax = sns.distplot(b_vals, ax=axes[1], bins=5)\n",
    "    ax = sns.distplot(q_vals, ax=axes[2], bins=5)\n",
    "        \n",
    "    #f.text(0.5, 0.04, 'Ethnic Group', ha='center', va='center', fontsize=14)\n",
    "    #f.text(0.08, 0.5, 'Fraction of Stops in Precinct', ha='center', va='center', rotation='vertical', fontsize=14)\n",
    "    #f.text(0.5, 0.96, 'Fraction of Stops in Precinct vs Ethnic Group', ha='center', va='center', fontsize=14)\n",
    "    \n",
    "    return f, axes"
   ]
  },
  {
   "cell_type": "code",
   "execution_count": 260,
   "metadata": {},
   "outputs": [
    {
     "name": "stderr",
     "output_type": "stream",
     "text": [
      "C:\\Users\\maxpi\\Anaconda3\\lib\\site-packages\\scipy\\stats\\stats.py:1713: FutureWarning: Using a non-tuple sequence for multidimensional indexing is deprecated; use `arr[tuple(seq)]` instead of `arr[seq]`. In the future this will be interpreted as an array index, `arr[np.array(seq)]`, which will result either in an error or a different result.\n",
      "  return np.add.reduce(sorted[indexer] * weights, axis=axis) / sumval\n"
     ]
    },
    {
     "data": {
      "text/plain": [
       "(<Figure size 432x1080 with 3 Axes>,\n",
       " array([<matplotlib.axes._subplots.AxesSubplot object at 0x000002877140F4A8>,\n",
       "        <matplotlib.axes._subplots.AxesSubplot object at 0x00000287704E0EB8>,\n",
       "        <matplotlib.axes._subplots.AxesSubplot object at 0x000002877023C630>],\n",
       "       dtype=object))"
      ]
     },
     "execution_count": 260,
     "metadata": {},
     "output_type": "execute_result"
    },
    {
     "data": {
      "image/png": "[encoded data removed]",
      "text/plain": [
       "<Figure size 432x1080 with 3 Axes>"
      ]
     },
     "metadata": {},
     "output_type": "display_data"
    }
   ],
   "source": [
    "makeHists(y_ep)"
   ]
  },
  {
   "cell_type": "code",
   "execution_count": null,
   "metadata": {},
   "outputs": [],
   "source": []
  }
 ],
 "metadata": {
  "kernelspec": {
   "display_name": "Python 3",
   "language": "python",
   "name": "python3"
  },
  "language_info": {
   "codemirror_mode": {
    "name": "ipython",
    "version": 3
   },
   "file_extension": ".py",
   "mimetype": "text/x-python",
   "name": "python",
   "nbconvert_exporter": "python",
   "pygments_lexer": "ipython3",
   "version": "3.6.5"
  }
 },
 "nbformat": 4,
 "nbformat_minor": 2
}
